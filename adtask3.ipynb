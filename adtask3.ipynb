{
 "cells": [
  {
   "cell_type": "code",
   "execution_count": 1,
   "id": "358405c8-4744-4978-8c7f-253666672b37",
   "metadata": {},
   "outputs": [],
   "source": [
    "#TASK-3 DASHBOARD DEVELOPMENT"
   ]
  },
  {
   "cell_type": "code",
   "execution_count": 2,
   "id": "30919940-7be8-40a8-9fd6-5eff80c98435",
   "metadata": {},
   "outputs": [
    {
     "name": "stdout",
     "output_type": "stream",
     "text": [
      "Collecting dash\n",
      "  Downloading dash-2.18.2-py3-none-any.whl.metadata (10 kB)\n",
      "Requirement already satisfied: pandas in c:\\users\\dell\\anaconda3\\lib\\site-packages (2.2.2)\n",
      "Requirement already satisfied: plotly in c:\\users\\dell\\anaconda3\\lib\\site-packages (5.22.0)\n",
      "Requirement already satisfied: Flask<3.1,>=1.0.4 in c:\\users\\dell\\anaconda3\\lib\\site-packages (from dash) (3.0.3)\n",
      "Requirement already satisfied: Werkzeug<3.1 in c:\\users\\dell\\anaconda3\\lib\\site-packages (from dash) (3.0.3)\n",
      "Collecting dash-html-components==2.0.0 (from dash)\n",
      "  Downloading dash_html_components-2.0.0-py3-none-any.whl.metadata (3.8 kB)\n",
      "Collecting dash-core-components==2.0.0 (from dash)\n",
      "  Downloading dash_core_components-2.0.0-py3-none-any.whl.metadata (2.9 kB)\n",
      "Collecting dash-table==5.0.0 (from dash)\n",
      "  Downloading dash_table-5.0.0-py3-none-any.whl.metadata (2.4 kB)\n",
      "Requirement already satisfied: importlib-metadata in c:\\users\\dell\\anaconda3\\lib\\site-packages (from dash) (7.0.1)\n",
      "Requirement already satisfied: typing-extensions>=4.1.1 in c:\\users\\dell\\anaconda3\\lib\\site-packages (from dash) (4.11.0)\n",
      "Requirement already satisfied: requests in c:\\users\\dell\\anaconda3\\lib\\site-packages (from dash) (2.32.2)\n",
      "Collecting retrying (from dash)\n",
      "  Downloading retrying-1.3.4-py3-none-any.whl.metadata (6.9 kB)\n",
      "Requirement already satisfied: nest-asyncio in c:\\users\\dell\\anaconda3\\lib\\site-packages (from dash) (1.6.0)\n",
      "Requirement already satisfied: setuptools in c:\\users\\dell\\anaconda3\\lib\\site-packages (from dash) (69.5.1)\n",
      "Requirement already satisfied: numpy>=1.26.0 in c:\\users\\dell\\anaconda3\\lib\\site-packages (from pandas) (1.26.4)\n",
      "Requirement already satisfied: python-dateutil>=2.8.2 in c:\\users\\dell\\anaconda3\\lib\\site-packages (from pandas) (2.9.0.post0)\n",
      "Requirement already satisfied: pytz>=2020.1 in c:\\users\\dell\\anaconda3\\lib\\site-packages (from pandas) (2024.1)\n",
      "Requirement already satisfied: tzdata>=2022.7 in c:\\users\\dell\\anaconda3\\lib\\site-packages (from pandas) (2023.3)\n",
      "Requirement already satisfied: tenacity>=6.2.0 in c:\\users\\dell\\anaconda3\\lib\\site-packages (from plotly) (8.2.2)\n",
      "Requirement already satisfied: packaging in c:\\users\\dell\\anaconda3\\lib\\site-packages (from plotly) (23.2)\n",
      "Requirement already satisfied: Jinja2>=3.1.2 in c:\\users\\dell\\anaconda3\\lib\\site-packages (from Flask<3.1,>=1.0.4->dash) (3.1.4)\n",
      "Requirement already satisfied: itsdangerous>=2.1.2 in c:\\users\\dell\\anaconda3\\lib\\site-packages (from Flask<3.1,>=1.0.4->dash) (2.2.0)\n",
      "Requirement already satisfied: click>=8.1.3 in c:\\users\\dell\\anaconda3\\lib\\site-packages (from Flask<3.1,>=1.0.4->dash) (8.1.7)\n",
      "Requirement already satisfied: blinker>=1.6.2 in c:\\users\\dell\\anaconda3\\lib\\site-packages (from Flask<3.1,>=1.0.4->dash) (1.6.2)\n",
      "Requirement already satisfied: six>=1.5 in c:\\users\\dell\\anaconda3\\lib\\site-packages (from python-dateutil>=2.8.2->pandas) (1.16.0)\n",
      "Requirement already satisfied: MarkupSafe>=2.1.1 in c:\\users\\dell\\anaconda3\\lib\\site-packages (from Werkzeug<3.1->dash) (2.1.3)\n",
      "Requirement already satisfied: zipp>=0.5 in c:\\users\\dell\\anaconda3\\lib\\site-packages (from importlib-metadata->dash) (3.17.0)\n",
      "Requirement already satisfied: charset-normalizer<4,>=2 in c:\\users\\dell\\anaconda3\\lib\\site-packages (from requests->dash) (2.0.4)\n",
      "Requirement already satisfied: idna<4,>=2.5 in c:\\users\\dell\\anaconda3\\lib\\site-packages (from requests->dash) (3.7)\n",
      "Requirement already satisfied: urllib3<3,>=1.21.1 in c:\\users\\dell\\anaconda3\\lib\\site-packages (from requests->dash) (2.2.2)\n",
      "Requirement already satisfied: certifi>=2017.4.17 in c:\\users\\dell\\anaconda3\\lib\\site-packages (from requests->dash) (2024.6.2)\n",
      "Requirement already satisfied: colorama in c:\\users\\dell\\anaconda3\\lib\\site-packages (from click>=8.1.3->Flask<3.1,>=1.0.4->dash) (0.4.6)\n",
      "Downloading dash-2.18.2-py3-none-any.whl (7.8 MB)\n",
      "   ---------------------------------------- 0.0/7.8 MB ? eta -:--:--\n",
      "   ---------------------------------------- 0.0/7.8 MB 1.3 MB/s eta 0:00:07\n",
      "   ---------------------------------------- 0.1/7.8 MB 1.1 MB/s eta 0:00:07\n",
      "    --------------------------------------- 0.1/7.8 MB 939.4 kB/s eta 0:00:09\n",
      "    --------------------------------------- 0.2/7.8 MB 1.1 MB/s eta 0:00:08\n",
      "   - -------------------------------------- 0.3/7.8 MB 1.2 MB/s eta 0:00:07\n",
      "   - -------------------------------------- 0.3/7.8 MB 1.4 MB/s eta 0:00:06\n",
      "   -- ------------------------------------- 0.4/7.8 MB 1.5 MB/s eta 0:00:05\n",
      "   -- ------------------------------------- 0.5/7.8 MB 1.5 MB/s eta 0:00:05\n",
      "   --- ------------------------------------ 0.7/7.8 MB 1.7 MB/s eta 0:00:05\n",
      "   ---- ----------------------------------- 0.8/7.8 MB 1.9 MB/s eta 0:00:04\n",
      "   ---- ----------------------------------- 0.9/7.8 MB 1.8 MB/s eta 0:00:04\n",
      "   ----- ---------------------------------- 1.0/7.8 MB 2.0 MB/s eta 0:00:04\n",
      "   ----- ---------------------------------- 1.1/7.8 MB 2.0 MB/s eta 0:00:04\n",
      "   ------ --------------------------------- 1.2/7.8 MB 2.1 MB/s eta 0:00:04\n",
      "   ------ --------------------------------- 1.2/7.8 MB 2.0 MB/s eta 0:00:04\n",
      "   ------- -------------------------------- 1.4/7.8 MB 2.1 MB/s eta 0:00:04\n",
      "   ------- -------------------------------- 1.5/7.8 MB 2.0 MB/s eta 0:00:04\n",
      "   -------- ------------------------------- 1.6/7.8 MB 2.1 MB/s eta 0:00:03\n",
      "   -------- ------------------------------- 1.7/7.8 MB 2.1 MB/s eta 0:00:03\n",
      "   --------- ------------------------------ 1.8/7.8 MB 2.1 MB/s eta 0:00:03\n",
      "   --------- ------------------------------ 1.9/7.8 MB 2.1 MB/s eta 0:00:03\n",
      "   ---------- ----------------------------- 2.1/7.8 MB 2.2 MB/s eta 0:00:03\n",
      "   ----------- ---------------------------- 2.2/7.8 MB 2.2 MB/s eta 0:00:03\n",
      "   ----------- ---------------------------- 2.3/7.8 MB 2.3 MB/s eta 0:00:03\n",
      "   ------------ --------------------------- 2.5/7.8 MB 2.4 MB/s eta 0:00:03\n",
      "   ------------- -------------------------- 2.5/7.8 MB 2.3 MB/s eta 0:00:03\n",
      "   -------------- ------------------------- 2.7/7.8 MB 2.4 MB/s eta 0:00:03\n",
      "   -------------- ------------------------- 2.8/7.8 MB 2.4 MB/s eta 0:00:03\n",
      "   -------------- ------------------------- 2.9/7.8 MB 2.4 MB/s eta 0:00:03\n",
      "   --------------- ------------------------ 3.1/7.8 MB 2.5 MB/s eta 0:00:02\n",
      "   ---------------- ----------------------- 3.2/7.8 MB 2.4 MB/s eta 0:00:02\n",
      "   ----------------- ---------------------- 3.4/7.8 MB 2.6 MB/s eta 0:00:02\n",
      "   ------------------ --------------------- 3.6/7.8 MB 2.6 MB/s eta 0:00:02\n",
      "   ------------------- -------------------- 3.8/7.8 MB 2.6 MB/s eta 0:00:02\n",
      "   -------------------- ------------------- 4.0/7.8 MB 2.7 MB/s eta 0:00:02\n",
      "   --------------------- ------------------ 4.1/7.8 MB 2.7 MB/s eta 0:00:02\n",
      "   --------------------- ------------------ 4.3/7.8 MB 2.7 MB/s eta 0:00:02\n",
      "   ---------------------- ----------------- 4.5/7.8 MB 2.8 MB/s eta 0:00:02\n",
      "   ------------------------ --------------- 4.7/7.8 MB 2.9 MB/s eta 0:00:02\n",
      "   ------------------------- -------------- 4.9/7.8 MB 2.9 MB/s eta 0:00:01\n",
      "   -------------------------- ------------- 5.1/7.8 MB 3.0 MB/s eta 0:00:01\n",
      "   --------------------------- ------------ 5.4/7.8 MB 3.0 MB/s eta 0:00:01\n",
      "   ---------------------------- ----------- 5.6/7.8 MB 3.1 MB/s eta 0:00:01\n",
      "   ------------------------------ --------- 5.9/7.8 MB 3.1 MB/s eta 0:00:01\n",
      "   ------------------------------- -------- 6.2/7.8 MB 3.2 MB/s eta 0:00:01\n",
      "   -------------------------------- ------- 6.4/7.8 MB 3.2 MB/s eta 0:00:01\n",
      "   --------------------------------- ------ 6.6/7.8 MB 3.2 MB/s eta 0:00:01\n",
      "   ---------------------------------- ----- 6.8/7.8 MB 3.2 MB/s eta 0:00:01\n",
      "   ------------------------------------ --- 7.0/7.8 MB 3.3 MB/s eta 0:00:01\n",
      "   ------------------------------------ --- 7.2/7.8 MB 3.3 MB/s eta 0:00:01\n",
      "   ------------------------------------- -- 7.3/7.8 MB 3.2 MB/s eta 0:00:01\n",
      "   -------------------------------------- - 7.4/7.8 MB 3.2 MB/s eta 0:00:01\n",
      "   ---------------------------------------  7.7/7.8 MB 3.3 MB/s eta 0:00:01\n",
      "   ---------------------------------------  7.8/7.8 MB 3.3 MB/s eta 0:00:01\n",
      "   ---------------------------------------- 7.8/7.8 MB 3.2 MB/s eta 0:00:00\n",
      "Downloading dash_core_components-2.0.0-py3-none-any.whl (3.8 kB)\n",
      "Downloading dash_html_components-2.0.0-py3-none-any.whl (4.1 kB)\n",
      "Downloading dash_table-5.0.0-py3-none-any.whl (3.9 kB)\n",
      "Downloading retrying-1.3.4-py3-none-any.whl (11 kB)\n",
      "Installing collected packages: dash-table, dash-html-components, dash-core-components, retrying, dash\n",
      "Successfully installed dash-2.18.2 dash-core-components-2.0.0 dash-html-components-2.0.0 dash-table-5.0.0 retrying-1.3.4\n",
      "Note: you may need to restart the kernel to use updated packages.\n"
     ]
    }
   ],
   "source": [
    "pip install dash pandas plotly\n"
   ]
  },
  {
   "cell_type": "code",
   "execution_count": 4,
   "id": "be2bfb6d-fe92-4fff-83f7-97d6699258c7",
   "metadata": {},
   "outputs": [],
   "source": [
    "import dash\n",
    "from dash import dcc, html\n",
    "import pandas as pd\n",
    "import plotly.express as px\n",
    "from dash.dependencies import Input, Output\n"
   ]
  },
  {
   "cell_type": "code",
   "execution_count": 6,
   "id": "2708d170-cc21-4a9d-bd1e-d025420a298f",
   "metadata": {},
   "outputs": [],
   "source": [
    "# Sample Data (You can replace this with your own dataset)\n",
    "data = {\n",
    "    'Category': ['A', 'B', 'C', 'A', 'B', 'C', 'A', 'B', 'C'],\n",
    "    'Sales': [100, 150, 200, 110, 160, 210, 120, 170, 220],\n",
    "    'Date': ['2024-01-01', '2024-01-01', '2024-01-01', '2024-02-01', '2024-02-01', '2024-02-01', '2024-03-01', '2024-03-01', '2024-03-01']\n",
    "}\n",
    "\n",
    "# Convert data to DataFrame\n",
    "df = pd.DataFrame(data)\n",
    "\n",
    "# Convert the 'Date' column to datetime type\n",
    "df['Date'] = pd.to_datetime(df['Date'])\n"
   ]
  },
  {
   "cell_type": "code",
   "execution_count": 8,
   "id": "73e3b746-772c-4c56-b2d0-53743e191cc0",
   "metadata": {},
   "outputs": [],
   "source": [
    "# Initialize the Dash app\n",
    "app = dash.Dash(__name__)\n",
    "\n",
    "# Create a figure (chart) using Plotly\n",
    "fig = px.bar(df, x='Date', y='Sales', color='Category', title=\"Sales Data by Category\")\n",
    "\n",
    "# Define the layout of the app\n",
    "app.layout = html.Div([\n",
    "    html.H1(\"Sales Dashboard\", style={'text-align': 'center'}),  # Title\n",
    "\n",
    "    # Dropdown menu to select a Category\n",
    "    dcc.Dropdown(\n",
    "        id='category-dropdown',\n",
    "        options=[\n",
    "            {'label': category, 'value': category} for category in df['Category'].unique()\n",
    "        ],\n",
    "        value='A',  # Default value\n",
    "        style={'width': '50%'}\n",
    "    ),\n",
    "\n",
    "    # Graph displaying the bar chart\n",
    "    dcc.Graph(\n",
    "        id='sales-graph',\n",
    "        figure=fig\n",
    "    )\n",
    "])\n"
   ]
  },
  {
   "cell_type": "code",
   "execution_count": 10,
   "id": "bbc83bfe-7826-465c-916d-a4fb1bd9fc41",
   "metadata": {},
   "outputs": [],
   "source": [
    "# Define the callback to update the graph based on dropdown selection\n",
    "@app.callback(\n",
    "    Output('sales-graph', 'figure'),\n",
    "    [Input('category-dropdown', 'value')]\n",
    ")\n",
    "def update_graph(selected_category):\n",
    "    # Filter the data based on selected category\n",
    "    filtered_df = df[df['Category'] == selected_category]\n",
    "\n",
    "    # Create a new figure (bar chart) based on filtered data\n",
    "    fig = px.bar(filtered_df, x='Date', y='Sales', color='Category', title=f\"Sales Data for Category {selected_category}\")\n",
    "    \n",
    "    return fig\n"
   ]
  },
  {
   "cell_type": "code",
   "execution_count": 11,
   "id": "eaa3655d-bf34-49c4-b6fc-514244900e1d",
   "metadata": {},
   "outputs": [
    {
     "data": {
      "text/html": [
       "\n",
       "        <iframe\n",
       "            width=\"100%\"\n",
       "            height=\"650\"\n",
       "            src=\"http://127.0.0.1:8050/\"\n",
       "            frameborder=\"0\"\n",
       "            allowfullscreen\n",
       "            \n",
       "        ></iframe>\n",
       "        "
      ],
      "text/plain": [
       "<IPython.lib.display.IFrame at 0x1e01fbaa240>"
      ]
     },
     "metadata": {},
     "output_type": "display_data"
    }
   ],
   "source": [
    "# Run the app\n",
    "if __name__ == '__main__':\n",
    "    app.run_server(debug=True)\n"
   ]
  },
  {
   "cell_type": "code",
   "execution_count": null,
   "id": "a5f9f933-57cd-4c0a-8af4-1724c8fc4f1a",
   "metadata": {},
   "outputs": [],
   "source": []
  }
 ],
 "metadata": {
  "kernelspec": {
   "display_name": "Python 3 (ipykernel)",
   "language": "python",
   "name": "python3"
  },
  "language_info": {
   "codemirror_mode": {
    "name": "ipython",
    "version": 3
   },
   "file_extension": ".py",
   "mimetype": "text/x-python",
   "name": "python",
   "nbconvert_exporter": "python",
   "pygments_lexer": "ipython3",
   "version": "3.12.4"
  }
 },
 "nbformat": 4,
 "nbformat_minor": 5
}
